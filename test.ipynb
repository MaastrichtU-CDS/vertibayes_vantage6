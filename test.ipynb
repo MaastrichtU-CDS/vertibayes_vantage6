{
 "cells": [
  {
   "cell_type": "code",
   "execution_count": 2,
   "id": "01d56c68",
   "metadata": {},
   "outputs": [],
   "source": [
    "import vantage6.client as v6client\n",
    "from com.florian.vertibayes.client import VertibayesClient"
   ]
  },
  {
   "cell_type": "code",
   "execution_count": 3,
   "id": "d0df7ab3",
   "metadata": {},
   "outputs": [
    {
     "ename": "SyntaxError",
     "evalue": "invalid syntax (809122350.py, line 1)",
     "output_type": "error",
     "traceback": [
      "\u001B[0;36m  File \u001B[0;32m\"/tmp/ipykernel_19372/809122350.py\"\u001B[0;36m, line \u001B[0;32m1\u001B[0m\n\u001B[0;31m    HOST = VANTAGE SERVER\u001B[0m\n\u001B[0m                   ^\u001B[0m\n\u001B[0;31mSyntaxError\u001B[0m\u001B[0;31m:\u001B[0m invalid syntax\n"
     ]
    }
   ],
   "source": [
    "HOST = VANTAGE SERVER\n",
    "PORT = 443\n",
    "PRIVATE_KEY = PRIVATE_KEY_DIR"
   ]
  },
  {
   "cell_type": "code",
   "execution_count": 4,
   "id": "802ad3c6",
   "metadata": {},
   "outputs": [
    {
     "ename": "NameError",
     "evalue": "name 'HOST' is not defined",
     "output_type": "error",
     "traceback": [
      "\u001B[0;31m---------------------------------------------------------------------------\u001B[0m",
      "\u001B[0;31mNameError\u001B[0m                                 Traceback (most recent call last)",
      "\u001B[0;32m/tmp/ipykernel_19372/138850541.py\u001B[0m in \u001B[0;36m<module>\u001B[0;34m\u001B[0m\n\u001B[0;32m----> 1\u001B[0;31m \u001B[0mclient\u001B[0m \u001B[0;34m=\u001B[0m \u001B[0mv6client\u001B[0m\u001B[0;34m.\u001B[0m\u001B[0mClient\u001B[0m\u001B[0;34m(\u001B[0m\u001B[0mhost\u001B[0m\u001B[0;34m=\u001B[0m\u001B[0mHOST\u001B[0m\u001B[0;34m,\u001B[0m \u001B[0mport\u001B[0m\u001B[0;34m=\u001B[0m\u001B[0mPORT\u001B[0m\u001B[0;34m,\u001B[0m \u001B[0mverbose\u001B[0m\u001B[0;34m=\u001B[0m\u001B[0;32mFalse\u001B[0m\u001B[0;34m)\u001B[0m\u001B[0;34m\u001B[0m\u001B[0;34m\u001B[0m\u001B[0m\n\u001B[0m\u001B[1;32m      2\u001B[0m \u001B[0mclient\u001B[0m\u001B[0;34m.\u001B[0m\u001B[0mauthenticate\u001B[0m\u001B[0;34m(\u001B[0m\u001B[0mUSERNAME\u001B[0m\u001B[0;34m,\u001B[0m \u001B[0mPASSWORD\u001B[0m\u001B[0;34m)\u001B[0m\u001B[0;34m\u001B[0m\u001B[0;34m\u001B[0m\u001B[0m\n\u001B[1;32m      3\u001B[0m \u001B[0mclient\u001B[0m\u001B[0;34m.\u001B[0m\u001B[0msetup_encryption\u001B[0m\u001B[0;34m(\u001B[0m\u001B[0mPRIVATE_KEY\u001B[0m\u001B[0;34m)\u001B[0m\u001B[0;34m\u001B[0m\u001B[0;34m\u001B[0m\u001B[0m\n",
      "\u001B[0;31mNameError\u001B[0m: name 'HOST' is not defined"
     ]
    }
   ],
   "source": [
    "client = v6client.Client(host=HOST, port=PORT, verbose=False)\n",
    "client.authenticate(USERNAME, PASSWORD)\n",
    "client.setup_encryption(PRIVATE_KEY)"
   ]
  },
  {
   "cell_type": "code",
   "execution_count": 5,
   "id": "0b0d0f94",
   "metadata": {},
   "outputs": [
    {
     "ename": "NameError",
     "evalue": "name 'client' is not defined",
     "output_type": "error",
     "traceback": [
      "\u001B[0;31m---------------------------------------------------------------------------\u001B[0m",
      "\u001B[0;31mNameError\u001B[0m                                 Traceback (most recent call last)",
      "\u001B[0;32m/tmp/ipykernel_19372/1182551723.py\u001B[0m in \u001B[0;36m<module>\u001B[0;34m\u001B[0m\n\u001B[1;32m      1\u001B[0m \u001B[0mCOLUMN_NAMES_IMAGE\u001B[0m \u001B[0;34m=\u001B[0m \u001B[0;34m'harbor2.vantage6.ai/testing/v6-test-py'\u001B[0m\u001B[0;34m\u001B[0m\u001B[0;34m\u001B[0m\u001B[0m\n\u001B[1;32m      2\u001B[0m \u001B[0;34m\u001B[0m\u001B[0m\n\u001B[0;32m----> 3\u001B[0;31m \u001B[0mcollaboration\u001B[0m \u001B[0;34m=\u001B[0m \u001B[0mclient\u001B[0m\u001B[0;34m.\u001B[0m\u001B[0mcollaboration\u001B[0m\u001B[0;34m.\u001B[0m\u001B[0mlist\u001B[0m\u001B[0;34m(\u001B[0m\u001B[0;34m)\u001B[0m\u001B[0;34m[\u001B[0m\u001B[0;36m0\u001B[0m\u001B[0;34m]\u001B[0m\u001B[0;34m\u001B[0m\u001B[0;34m\u001B[0m\u001B[0m\n\u001B[0m\u001B[1;32m      4\u001B[0m \u001B[0mcollaboration_id\u001B[0m\u001B[0;34m=\u001B[0m \u001B[0mcollaboration\u001B[0m\u001B[0;34m[\u001B[0m\u001B[0;34m'id'\u001B[0m\u001B[0;34m]\u001B[0m\u001B[0;34m\u001B[0m\u001B[0;34m\u001B[0m\u001B[0m\n\u001B[1;32m      5\u001B[0m \u001B[0morganizations\u001B[0m \u001B[0;34m=\u001B[0m \u001B[0;34m[\u001B[0m\u001B[0mo\u001B[0m\u001B[0;34m[\u001B[0m\u001B[0;34m'id'\u001B[0m\u001B[0;34m]\u001B[0m \u001B[0;32mfor\u001B[0m \u001B[0mo\u001B[0m \u001B[0;32min\u001B[0m \u001B[0mcollaboration\u001B[0m\u001B[0;34m[\u001B[0m\u001B[0;34m'organizations'\u001B[0m\u001B[0;34m]\u001B[0m\u001B[0;34m]\u001B[0m\u001B[0;34m\u001B[0m\u001B[0;34m\u001B[0m\u001B[0m\n",
      "\u001B[0;31mNameError\u001B[0m: name 'client' is not defined"
     ]
    }
   ],
   "source": [
    "COLUMN_NAMES_IMAGE = 'harbor2.vantage6.ai/testing/v6-test-py'\n",
    "\n",
    "collaboration = client.collaboration.list()[0]\n",
    "collaboration_id= collaboration['id']\n",
    "organizations = [o['id'] for o in collaboration['organizations']]\n",
    "organizations"
   ]
  },
  {
   "cell_type": "code",
   "execution_count": 7,
   "id": "74f8c77b",
   "metadata": {},
   "outputs": [
    {
     "ename": "NameError",
     "evalue": "name 'client' is not defined",
     "output_type": "error",
     "traceback": [
      "\u001B[0;31m---------------------------------------------------------------------------\u001B[0m",
      "\u001B[0;31mNameError\u001B[0m                                 Traceback (most recent call last)",
      "\u001B[0;32m/tmp/ipykernel_19372/4212734798.py\u001B[0m in \u001B[0;36m<module>\u001B[0;34m\u001B[0m\n\u001B[1;32m      1\u001B[0m \u001B[0;31m# Check which node contains which columns\u001B[0m\u001B[0;34m\u001B[0m\u001B[0;34m\u001B[0m\u001B[0;34m\u001B[0m\u001B[0m\n\u001B[1;32m      2\u001B[0m \u001B[0;34m\u001B[0m\u001B[0m\n\u001B[0;32m----> 3\u001B[0;31m task = client.task.create(collaboration_id, \n\u001B[0m\u001B[1;32m      4\u001B[0m                           \u001B[0mimage\u001B[0m\u001B[0;34m=\u001B[0m\u001B[0mCOLUMN_NAMES_IMAGE\u001B[0m\u001B[0;34m,\u001B[0m\u001B[0;34m\u001B[0m\u001B[0;34m\u001B[0m\u001B[0m\n\u001B[1;32m      5\u001B[0m                           \u001B[0morganizations\u001B[0m\u001B[0;34m=\u001B[0m\u001B[0morganizations\u001B[0m\u001B[0;34m,\u001B[0m\u001B[0;34m\u001B[0m\u001B[0;34m\u001B[0m\u001B[0m\n",
      "\u001B[0;31mNameError\u001B[0m: name 'client' is not defined"
     ]
    }
   ],
   "source": [
    "# Check which node contains which columns\n",
    "\n",
    "task = client.task.create(collaboration_id, \n",
    "                          image=COLUMN_NAMES_IMAGE, \n",
    "                          organizations=organizations,\n",
    "                          name='', description='', \n",
    "                          input={'method': 'column_names'},\n",
    "                          data_format='json')"
   ]
  },
  {
   "cell_type": "code",
   "execution_count": 8,
   "id": "48a39c47",
   "metadata": {},
   "outputs": [
    {
     "ename": "NameError",
     "evalue": "name 'task' is not defined",
     "output_type": "error",
     "traceback": [
      "\u001B[0;31m---------------------------------------------------------------------------\u001B[0m",
      "\u001B[0;31mNameError\u001B[0m                                 Traceback (most recent call last)",
      "\u001B[0;32m/tmp/ipykernel_19372/1819376152.py\u001B[0m in \u001B[0;36m<module>\u001B[0;34m\u001B[0m\n\u001B[0;32m----> 1\u001B[0;31m \u001B[0mtask\u001B[0m\u001B[0;34m\u001B[0m\u001B[0;34m\u001B[0m\u001B[0m\n\u001B[0m",
      "\u001B[0;31mNameError\u001B[0m: name 'task' is not defined"
     ]
    }
   ],
   "source": [
    "task"
   ]
  },
  {
   "cell_type": "code",
   "execution_count": 9,
   "id": "cb2ac149",
   "metadata": {
    "scrolled": true
   },
   "outputs": [
    {
     "ename": "NameError",
     "evalue": "name 'task' is not defined",
     "output_type": "error",
     "traceback": [
      "\u001B[0;31m---------------------------------------------------------------------------\u001B[0m",
      "\u001B[0;31mNameError\u001B[0m                                 Traceback (most recent call last)",
      "\u001B[0;32m/tmp/ipykernel_19372/4202068483.py\u001B[0m in \u001B[0;36m<module>\u001B[0;34m\u001B[0m\n\u001B[0;32m----> 1\u001B[0;31m \u001B[0;32mfor\u001B[0m \u001B[0mr\u001B[0m \u001B[0;32min\u001B[0m \u001B[0mtask\u001B[0m\u001B[0;34m[\u001B[0m\u001B[0;34m'results'\u001B[0m\u001B[0;34m]\u001B[0m\u001B[0;34m:\u001B[0m\u001B[0;34m\u001B[0m\u001B[0;34m\u001B[0m\u001B[0m\n\u001B[0m\u001B[1;32m      2\u001B[0m     \u001B[0mupdated\u001B[0m \u001B[0;34m=\u001B[0m \u001B[0mclient\u001B[0m\u001B[0;34m.\u001B[0m\u001B[0mresult\u001B[0m\u001B[0;34m.\u001B[0m\u001B[0mget\u001B[0m\u001B[0;34m(\u001B[0m\u001B[0mr\u001B[0m\u001B[0;34m[\u001B[0m\u001B[0;34m'id'\u001B[0m\u001B[0;34m]\u001B[0m\u001B[0;34m)\u001B[0m\u001B[0;34m\u001B[0m\u001B[0;34m\u001B[0m\u001B[0m\n\u001B[1;32m      3\u001B[0m     \u001B[0morganization\u001B[0m \u001B[0;34m=\u001B[0m \u001B[0mupdated\u001B[0m\u001B[0;34m[\u001B[0m\u001B[0;34m\"organization\"\u001B[0m\u001B[0;34m]\u001B[0m\u001B[0;34m[\u001B[0m\u001B[0;34m\"id\"\u001B[0m\u001B[0;34m]\u001B[0m\u001B[0;34m\u001B[0m\u001B[0;34m\u001B[0m\u001B[0m\n\u001B[1;32m      4\u001B[0m     \u001B[0mresult\u001B[0m \u001B[0;34m=\u001B[0m \u001B[0mupdated\u001B[0m\u001B[0;34m[\u001B[0m\u001B[0;34m'result'\u001B[0m\u001B[0;34m]\u001B[0m\u001B[0;34m\u001B[0m\u001B[0;34m\u001B[0m\u001B[0m\n\u001B[1;32m      5\u001B[0m     \u001B[0mdisplay\u001B[0m\u001B[0;34m(\u001B[0m\u001B[0;34mf'Organization: {organization}, result: {result}'\u001B[0m\u001B[0;34m)\u001B[0m\u001B[0;34m\u001B[0m\u001B[0;34m\u001B[0m\u001B[0m\n",
      "\u001B[0;31mNameError\u001B[0m: name 'task' is not defined"
     ]
    }
   ],
   "source": [
    "for r in task['results']:\n",
    "    updated = client.result.get(r['id'])\n",
    "    organization = updated[\"organization\"][\"id\"]\n",
    "    result = updated['result']\n",
    "    display(f'Organization: {organization}, result: {result}')"
   ]
  },
  {
   "cell_type": "code",
   "execution_count": 10,
   "id": "c8f763f6",
   "metadata": {},
   "outputs": [
    {
     "ename": "SyntaxError",
     "evalue": "invalid syntax (977325244.py, line 2)",
     "output_type": "error",
     "traceback": [
      "\u001B[0;36m  File \u001B[0;32m\"/tmp/ipykernel_19372/977325244.py\"\u001B[0;36m, line \u001B[0;32m2\u001B[0m\n\u001B[0;31m    node1 = SOME ORGANIZATION\u001B[0m\n\u001B[0m                 ^\u001B[0m\n\u001B[0;31mSyntaxError\u001B[0m\u001B[0;31m:\u001B[0m invalid syntax\n"
     ]
    }
   ],
   "source": [
    "# Now we know which organization has which role\n",
    "node1 = SOME ORGANIZATION\n",
    "node2 = OTHER ORGANIZATION\n",
    "commodity_node = ANOTHER ORGANIZATION\n",
    "exclude = [SOME ORGANIZATIONS I WANT TO EXCLUDE]"
   ]
  },
  {
   "cell_type": "code",
   "execution_count": 11,
   "id": "4c56a676",
   "metadata": {},
   "outputs": [
    {
     "ename": "NameError",
     "evalue": "name 'client' is not defined",
     "output_type": "error",
     "traceback": [
      "\u001B[0;31m---------------------------------------------------------------------------\u001B[0m",
      "\u001B[0;31mNameError\u001B[0m                                 Traceback (most recent call last)",
      "\u001B[0;32m/tmp/ipykernel_19372/3360401902.py\u001B[0m in \u001B[0;36m<module>\u001B[0;34m\u001B[0m\n\u001B[0;32m----> 1\u001B[0;31m \u001B[0mvertibayes_client\u001B[0m \u001B[0;34m=\u001B[0m \u001B[0mVertibayesClient\u001B[0m\u001B[0;34m(\u001B[0m\u001B[0mclient\u001B[0m\u001B[0;34m)\u001B[0m\u001B[0;34m\u001B[0m\u001B[0;34m\u001B[0m\u001B[0m\n\u001B[0m",
      "\u001B[0;31mNameError\u001B[0m: name 'client' is not defined"
     ]
    }
   ],
   "source": [
    "vertibayes_client = VertibayesClient(client)"
   ]
  },
  {
   "cell_type": "code",
   "execution_count": 12,
   "id": "1cbb6453",
   "metadata": {},
   "outputs": [
    {
     "ename": "NameError",
     "evalue": "name 'vertibayes_client' is not defined",
     "output_type": "error",
     "traceback": [
      "\u001B[0;31m---------------------------------------------------------------------------\u001B[0m",
      "\u001B[0;31mNameError\u001B[0m                                 Traceback (most recent call last)",
      "\u001B[0;32m/tmp/ipykernel_19372/3284128229.py\u001B[0m in \u001B[0;36m<module>\u001B[0;34m\u001B[0m\n\u001B[0;32m----> 1\u001B[0;31m \u001B[0mtask\u001B[0m \u001B[0;34m=\u001B[0m \u001B[0mvertibayes_client\u001B[0m\u001B[0;34m.\u001B[0m\u001B[0mvertibayes\u001B[0m\u001B[0;34m(\u001B[0m\u001B[0mcollaboration_id\u001B[0m\u001B[0;34m,\u001B[0m \u001B[0mcommodity_node\u001B[0m\u001B[0;34m,\u001B[0m \u001B[0mnode1\u001B[0m\u001B[0;34m,\u001B[0m \u001B[0mnode2\u001B[0m\u001B[0;34m)\u001B[0m\u001B[0;34m\u001B[0m\u001B[0;34m\u001B[0m\u001B[0m\n\u001B[0m",
      "\u001B[0;31mNameError\u001B[0m: name 'vertibayes_client' is not defined"
     ]
    }
   ],
   "source": [
    "task = vertibayes_client.vertibayes(collaboration_id, commodity_node, node1, node2)"
   ]
  },
  {
   "cell_type": "code",
   "execution_count": 13,
   "id": "6da91608",
   "metadata": {},
   "outputs": [
    {
     "ename": "NameError",
     "evalue": "name 'task' is not defined",
     "output_type": "error",
     "traceback": [
      "\u001B[0;31m---------------------------------------------------------------------------\u001B[0m",
      "\u001B[0;31mNameError\u001B[0m                                 Traceback (most recent call last)",
      "\u001B[0;32m/tmp/ipykernel_19372/4202068483.py\u001B[0m in \u001B[0;36m<module>\u001B[0;34m\u001B[0m\n\u001B[0;32m----> 1\u001B[0;31m \u001B[0;32mfor\u001B[0m \u001B[0mr\u001B[0m \u001B[0;32min\u001B[0m \u001B[0mtask\u001B[0m\u001B[0;34m[\u001B[0m\u001B[0;34m'results'\u001B[0m\u001B[0;34m]\u001B[0m\u001B[0;34m:\u001B[0m\u001B[0;34m\u001B[0m\u001B[0;34m\u001B[0m\u001B[0m\n\u001B[0m\u001B[1;32m      2\u001B[0m     \u001B[0mupdated\u001B[0m \u001B[0;34m=\u001B[0m \u001B[0mclient\u001B[0m\u001B[0;34m.\u001B[0m\u001B[0mresult\u001B[0m\u001B[0;34m.\u001B[0m\u001B[0mget\u001B[0m\u001B[0;34m(\u001B[0m\u001B[0mr\u001B[0m\u001B[0;34m[\u001B[0m\u001B[0;34m'id'\u001B[0m\u001B[0;34m]\u001B[0m\u001B[0;34m)\u001B[0m\u001B[0;34m\u001B[0m\u001B[0;34m\u001B[0m\u001B[0m\n\u001B[1;32m      3\u001B[0m     \u001B[0morganization\u001B[0m \u001B[0;34m=\u001B[0m \u001B[0mupdated\u001B[0m\u001B[0;34m[\u001B[0m\u001B[0;34m\"organization\"\u001B[0m\u001B[0;34m]\u001B[0m\u001B[0;34m[\u001B[0m\u001B[0;34m\"id\"\u001B[0m\u001B[0;34m]\u001B[0m\u001B[0;34m\u001B[0m\u001B[0;34m\u001B[0m\u001B[0m\n\u001B[1;32m      4\u001B[0m     \u001B[0mresult\u001B[0m \u001B[0;34m=\u001B[0m \u001B[0mupdated\u001B[0m\u001B[0;34m[\u001B[0m\u001B[0;34m'result'\u001B[0m\u001B[0;34m]\u001B[0m\u001B[0;34m\u001B[0m\u001B[0;34m\u001B[0m\u001B[0m\n\u001B[1;32m      5\u001B[0m     \u001B[0mdisplay\u001B[0m\u001B[0;34m(\u001B[0m\u001B[0;34mf'Organization: {organization}, result: {result}'\u001B[0m\u001B[0;34m)\u001B[0m\u001B[0;34m\u001B[0m\u001B[0;34m\u001B[0m\u001B[0m\n",
      "\u001B[0;31mNameError\u001B[0m: name 'task' is not defined"
     ]
    }
   ],
   "source": [
    "for r in task['results']:\n",
    "    updated = client.result.get(r['id'])\n",
    "    organization = updated[\"organization\"][\"id\"]\n",
    "    result = updated['result']\n",
    "    display(f'Organization: {organization}, result: {result}')"
   ]
  }
 ],
 "metadata": {
  "kernelspec": {
   "display_name": "Python 3 (ipykernel)",
   "language": "python",
   "name": "python3"
  },
  "language_info": {
   "codemirror_mode": {
    "name": "ipython",
    "version": 3
   },
   "file_extension": ".py",
   "mimetype": "text/x-python",
   "name": "python",
   "nbconvert_exporter": "python",
   "pygments_lexer": "ipython3",
   "version": "3.8.3"
  }
 },
 "nbformat": 4,
 "nbformat_minor": 5
}